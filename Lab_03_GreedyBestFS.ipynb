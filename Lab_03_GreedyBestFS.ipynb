{
  "nbformat": 4,
  "nbformat_minor": 0,
  "metadata": {
    "colab": {
      "provenance": [],
      "authorship_tag": "ABX9TyMe5zrxXE8BtHOF24ytyjq1",
      "include_colab_link": true
    },
    "kernelspec": {
      "name": "python3",
      "display_name": "Python 3"
    },
    "language_info": {
      "name": "python"
    }
  },
  "cells": [
    {
      "cell_type": "markdown",
      "metadata": {
        "id": "view-in-github",
        "colab_type": "text"
      },
      "source": [
        "<a href=\"https://colab.research.google.com/github/FatimaBatool820/MS-AI-_Lab_01/blob/main/Lab_03_GreedyBestFS.ipynb\" target=\"_parent\"><img src=\"https://colab.research.google.com/assets/colab-badge.svg\" alt=\"Open In Colab\"/></a>"
      ]
    },
    {
      "cell_type": "markdown",
      "source": [
        "# **Lab Tasks:**\n",
        "Evaluate the whether the code of A* algorithm is giving correct output or not. Indentify the logical errors in the provided code.\n"
      ],
      "metadata": {
        "id": "KJ9sJOwVeaHS"
      }
    },
    {
      "cell_type": "code",
      "execution_count": null,
      "metadata": {
        "id": "_1D0wh8u_xsx"
      },
      "outputs": [],
      "source": [
        "graph = {'Arad': [['Zerind', 374], ['Timisoara', 329], ['Sibiu', 253]],\n",
        "         'Zerind': [['Oradea', 380], ['Arad', 366]],\n",
        "         'Oradea': [['Sibiu', 253]],\n",
        "         'Sibiu': [['Rimniciu Vilcea', 193], ['Fagaras', 178], ['Arad', 366]],\n",
        "         'Fagaras': [['Sibiu', 253], ['Bucharest', 0]],\n",
        "         'Rimniciu Vilcea': [['Pitesti', 98], ['Craiova', 160], ['Sibiu', 253]],\n",
        "         'Timisoara': [['Lugoj', 244], ['Arad', 366]],\n",
        "         'Lugoj': [['Mehadia', 241]],\n",
        "         'Mehadia': [['Lugoj', 244], ['Dobreta', 242]],\n",
        "         'Dobreta': [['Mehadia', 241], ['Craiova', 160]],\n",
        "         'Pitesti': [['Craiova', 160], ['Bucharest', 0]],\n",
        "         'Craiova': [['Pitesti', 98], ['Dobreta', 242], ['Rimniciu Vilcea', 193]],\n",
        "         'Bucharest': [['Giurgiu', 77], ['Urziceni', 80], ['Fagaras', 178], ['Pitesti', 98]],\n",
        "         'Giurgiu': [['Bucharest', 0]],\n",
        "         'Urziceni': [['Vaslui', 199], ['Hirsova', 151], ['Bucharest', 0]],\n",
        "         'Vaslui': [['Lasi', 226], ['Urziceni', 80]],\n",
        "         'Lasi': [['Neamt', 234], ['Vaslui', 199]],\n",
        "         'Neamt': [['Lasi', 226]],\n",
        "         'Hirsova': [['Eforie', 161], ['Urziceni', 80]],\n",
        "         'Eforie': [['Hirsova', 151]],\n",
        "         }"
      ]
    },
    {
      "cell_type": "code",
      "source": [
        "from operator import itemgetter\n",
        "\n",
        "def gbfs_traversal(graph, start, goal):\n",
        "    opened = [start]\n",
        "    closed = []\n",
        "    while opened:\n",
        "        node = opened.pop(0)\n",
        "        print (node)\n",
        "        if node[0] == goal[0]:\n",
        "          closed.append(node[0])\n",
        "          return closed\n",
        "        else:\n",
        "          closed.append(node[0])\n",
        "          opened = opened + [item for item in graph[node[0]] if item not in opened and item not in closed]\n",
        "        opened.sort(key=itemgetter(1))\n",
        "    return 'GOAL Not FOUND'"
      ],
      "metadata": {
        "id": "VCI8SwO__zR1"
      },
      "execution_count": null,
      "outputs": []
    },
    {
      "cell_type": "code",
      "source": [
        "print(\"GBFS\")\n",
        "gbfsPath = gbfs_traversal(graph, ['Arad'],['Bucharest'])\n",
        "print(gbfsPath)"
      ],
      "metadata": {
        "colab": {
          "base_uri": "https://localhost:8080/"
        },
        "id": "TmBiHP_5_7Gb",
        "outputId": "4ee036e7-5047-4b83-e31d-eb631399c226"
      },
      "execution_count": null,
      "outputs": [
        {
          "output_type": "stream",
          "name": "stdout",
          "text": [
            "GBFS\n",
            "['Arad']\n",
            "['Sibiu', 253]\n",
            "['Fagaras', 178]\n",
            "['Bucharest', 0]\n",
            "['Arad', 'Sibiu', 'Fagaras', 'Bucharest']\n"
          ]
        }
      ]
    },
    {
      "cell_type": "code",
      "source": [
        "from operator import itemgetter\n",
        "def astarik_traversal(graph, start, goal):\n",
        "    opened = [start]\n",
        "    closed = []\n",
        "    while opened:\n",
        "        node = opened.pop(0)\n",
        "        print('current',node)\n",
        "        if node[0] == goal[0]:\n",
        "          closed.append(node)\n",
        "          print('closed',closed)\n",
        "          return [a[0] for a in closed]\n",
        "        else:\n",
        "            closed.append(node)\n",
        "            opened = opened + [[item[0],closed[-1][1]+item[1],node[2]] for item in graph[node[0]] if item[0] not in [i[0] for i in opened] and item[0] not in [i[0] for i in closed]]\n",
        "            print ('open',opened)\n",
        "        opened.sort(key=lambda element:element[1]+element[2])\n",
        "        print('sortedopen',opened)\n",
        "    return 'GOAL Not FOUND'\n",
        "\n",
        "print(astarik_traversal(graph, ['Arad', 0, 366], ['Bucharest', 0, 0]))"
      ],
      "metadata": {
        "colab": {
          "base_uri": "https://localhost:8080/"
        },
        "id": "Ku4am0fo_9db",
        "outputId": "155889a8-0039-4c44-d3a2-e518159f20ec"
      },
      "execution_count": null,
      "outputs": [
        {
          "output_type": "stream",
          "name": "stdout",
          "text": [
            "current ['Arad', 0, 366]\n",
            "open [['Zerind', 374, 366], ['Timisoara', 329, 366], ['Sibiu', 253, 366]]\n",
            "sortedopen [['Sibiu', 253, 366], ['Timisoara', 329, 366], ['Zerind', 374, 366]]\n",
            "current ['Sibiu', 253, 366]\n",
            "open [['Timisoara', 329, 366], ['Zerind', 374, 366], ['Rimniciu Vilcea', 446, 366], ['Fagaras', 431, 366]]\n",
            "sortedopen [['Timisoara', 329, 366], ['Zerind', 374, 366], ['Fagaras', 431, 366], ['Rimniciu Vilcea', 446, 366]]\n",
            "current ['Timisoara', 329, 366]\n",
            "open [['Zerind', 374, 366], ['Fagaras', 431, 366], ['Rimniciu Vilcea', 446, 366], ['Lugoj', 573, 366]]\n",
            "sortedopen [['Zerind', 374, 366], ['Fagaras', 431, 366], ['Rimniciu Vilcea', 446, 366], ['Lugoj', 573, 366]]\n",
            "current ['Zerind', 374, 366]\n",
            "open [['Fagaras', 431, 366], ['Rimniciu Vilcea', 446, 366], ['Lugoj', 573, 366], ['Oradea', 754, 366]]\n",
            "sortedopen [['Fagaras', 431, 366], ['Rimniciu Vilcea', 446, 366], ['Lugoj', 573, 366], ['Oradea', 754, 366]]\n",
            "current ['Fagaras', 431, 366]\n",
            "open [['Rimniciu Vilcea', 446, 366], ['Lugoj', 573, 366], ['Oradea', 754, 366], ['Bucharest', 431, 366]]\n",
            "sortedopen [['Bucharest', 431, 366], ['Rimniciu Vilcea', 446, 366], ['Lugoj', 573, 366], ['Oradea', 754, 366]]\n",
            "current ['Bucharest', 431, 366]\n",
            "closed [['Arad', 0, 366], ['Sibiu', 253, 366], ['Timisoara', 329, 366], ['Zerind', 374, 366], ['Fagaras', 431, 366], ['Bucharest', 431, 366]]\n",
            "['Arad', 'Sibiu', 'Timisoara', 'Zerind', 'Fagaras', 'Bucharest']\n"
          ]
        }
      ]
    },
    {
      "cell_type": "code",
      "source": [],
      "metadata": {
        "id": "0mk1BAE1AEr7"
      },
      "execution_count": null,
      "outputs": []
    }
  ]
}