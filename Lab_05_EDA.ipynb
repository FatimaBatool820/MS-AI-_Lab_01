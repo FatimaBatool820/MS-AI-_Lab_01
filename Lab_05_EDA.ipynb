from IPython.display import clear_output
   import json

   def clear_widget_state(notebook_path):
       with open(notebook_path, 'r') as f:
           notebook_data = json.load(f)

       for cell in notebook_data['cells']:
           if 'metadata' in cell and 'widgets' in cell['metadata']:
               for widget_id, widget_data in cell['metadata']['widgets'].items():
                   if 'state' in widget_data:
                       del widget_data['state']

       with open(notebook_path, 'w') as f:
           json.dump(notebook_data, f, indent=2)

   # Replace 'your_notebook.ipynb' with the actual path to your notebook
   clear_widget_state('your_notebook.ipynb')

   clear_output()  # Clear output to avoid clutter
   print("Widget state cleared.")

